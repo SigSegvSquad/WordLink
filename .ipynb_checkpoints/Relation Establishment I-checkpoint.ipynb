{
 "cells": [
  {
   "cell_type": "markdown",
   "metadata": {},
   "source": [
    "# Establish Relations "
   ]
  },
  {
   "cell_type": "code",
   "execution_count": null,
   "metadata": {},
   "outputs": [],
   "source": [
    "from gensim.models import Word2Vec\n",
    "from gensim.models import KeyedVectors\n",
    "import gensim.downloader\n",
    "#Import numpy for array calculation\n",
    "import numpy as np\n",
    "\n",
    "import re\n",
    "\n",
    "#import nltk for string operations\n",
    "from nltk.stem import WordNetLemmatizer \n",
    "from nltk.corpus import stopwords \n",
    "from nltk.tokenize import word_tokenize"
   ]
  },
  {
   "cell_type": "code",
   "execution_count": 17,
   "metadata": {},
   "outputs": [],
   "source": [
    "# Load the model\n",
    "model = gensim.downloader.load('glove-wiki-gigaword-50')"
   ]
  },
  {
   "cell_type": "code",
   "execution_count": 10,
   "metadata": {},
   "outputs": [],
   "source": [
    "# Prepared a country-capital tuple list\n",
    "country_capital_tuples = [\n",
    "(\"india\", \"delhi\"),\n",
    "(\"afghanistan\", \"kabul\"),\n",
    "(\"angola\", \"luanda\"),\n",
    "(\"australia\", \"canberra\"),\n",
    "(\"brazil\", \"brasilia\"),\n",
    "(\"canada\", \"ottawa\"),\n",
    "(\"denmark\", \"copenhagen\"),\n",
    "(\"egypt\", \"cairo\"),\n",
    "(\"england\", \"london\"),\n",
    "(\"greece\", \"athens\"),\n",
    "(\"indonesia\", \"jakarta\"),\n",
    "(\"iran\", \"tehran\"),\n",
    "(\"ireland\", \"dublin\"),\n",
    "(\"japan\", \"tokyo\"),\n",
    "(\"russia\", \"moscow\"),\n",
    "(\"spain\", \"madrid\"),\n",
    "]"
   ]
  },
  {
   "cell_type": "code",
   "execution_count": 22,
   "metadata": {},
   "outputs": [],
   "source": [
    "# created a separate list for country-capital word vectors\n",
    "country_capital_vectors = []\n",
    "\n",
    "for tup in country_capital_tuples:\n",
    "    country_vec = model.get_vector(tup[0])\n",
    "    capital_vec = model.get_vector(tup[1])\n",
    "    country_capital_vectors.append((country_vec, capital_vec))\n"
   ]
  },
  {
   "cell_type": "markdown",
   "metadata": {},
   "source": [
    "### Relation Visualisation"
   ]
  },
  {
   "cell_type": "code",
   "execution_count": null,
   "metadata": {},
   "outputs": [],
   "source": []
  }
 ],
 "metadata": {
  "kernelspec": {
   "display_name": "Python 3",
   "language": "python",
   "name": "python3"
  },
  "language_info": {
   "codemirror_mode": {
    "name": "ipython",
    "version": 3
   },
   "file_extension": ".py",
   "mimetype": "text/x-python",
   "name": "python",
   "nbconvert_exporter": "python",
   "pygments_lexer": "ipython3",
   "version": "3.7.4"
  }
 },
 "nbformat": 4,
 "nbformat_minor": 4
}
