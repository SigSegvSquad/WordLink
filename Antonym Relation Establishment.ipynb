{
 "cells": [
  {
   "cell_type": "markdown",
   "metadata": {},
   "source": [
    "# Antonym Word Relation Establishment"
   ]
  },
  {
   "cell_type": "code",
   "execution_count": 1,
   "metadata": {},
   "outputs": [],
   "source": [
    "from gensim.models import Word2Vec\n",
    "from gensim.models import KeyedVectors\n",
    "import gensim.downloader\n",
    "#Import numpy for array calculation|\n",
    "import numpy as np\n",
    "\n",
    "import re\n",
    "\n",
    "#import nltk for string operations\n",
    "from nltk.stem import WordNetLemmatizer \n",
    "from nltk.corpus import stopwords \n",
    "from nltk.tokenize import word_tokenize\n",
    "\n",
    "import relations"
   ]
  },
  {
   "cell_type": "code",
   "execution_count": 2,
   "metadata": {},
   "outputs": [],
   "source": [
    "# import word list\n",
    "imported_tuples = relations.read_relations(\"./relations/antonyms.txt\")"
   ]
  },
  {
   "cell_type": "code",
   "execution_count": 3,
   "metadata": {},
   "outputs": [],
   "source": [
    "# Load the model\n",
    "model = gensim.downloader.load('glove-wiki-gigaword-50')\n",
    "dims = 50"
   ]
  },
  {
   "cell_type": "code",
   "execution_count": 4,
   "metadata": {},
   "outputs": [],
   "source": [
    "# preprocess data\n",
    "antonym_tuples = []\n",
    "for tup in imported_tuples:\n",
    "    if \" \" not in tup[0].strip() and \" \" not in tup[1].strip():\n",
    "        antonym_tuples.append((tup[0].strip().lower(), tup[1].strip().lower()))"
   ]
  },
  {
   "cell_type": "code",
   "execution_count": 5,
   "metadata": {},
   "outputs": [],
   "source": [
    "# conversion to vectors\n",
    "antonym_vectors = []\n",
    "for tup in antonym_tuples:\n",
    "    if tup[0] in model.vocab and tup[1] in model.vocab:\n",
    "        antonym_vectors.append((model.get_vector(tup[0]), model.get_vector(tup[1])))"
   ]
  },
  {
   "cell_type": "markdown",
   "metadata": {},
   "source": [
    "## Multi-Variate Linear Regression"
   ]
  },
  {
   "cell_type": "markdown",
   "metadata": {},
   "source": [
    "Given the input vector, the aim is to create a model that outputs its antonym vector. \n",
    "The output variable has multiple dimensions, the strategy is to regress over each dimension and get coefficients for each dimension."
   ]
  },
  {
   "cell_type": "code",
   "execution_count": 6,
   "metadata": {},
   "outputs": [],
   "source": [
    "from sklearn.linear_model import LinearRegression"
   ]
  },
  {
   "cell_type": "code",
   "execution_count": 7,
   "metadata": {},
   "outputs": [
    {
     "name": "stdout",
     "output_type": "stream",
     "text": [
      "Model score:  0.36560716860029346\n"
     ]
    }
   ],
   "source": [
    "# create a coefficients array\n",
    "coeff = []\n",
    "intercepts = []\n",
    "avg_score = 0\n",
    "# regressing a linear model on each independent dimension of response variable\n",
    "for i in range(dims):\n",
    "    y = [x[0][i] for x in antonym_vectors]\n",
    "    x = [tup[1] for tup in antonym_vectors]\n",
    "    regr = LinearRegression()\n",
    "    regr.fit(x, y)\n",
    "    coeff.append(regr.coef_)\n",
    "    intercepts.append(regr.intercept_)\n",
    "    avg_score += regr.score(x,y)\n",
    "print(\"Model score: \", avg_score/dims)"
   ]
  },
  {
   "cell_type": "markdown",
   "metadata": {},
   "source": [
    "The model has a very low accuracy, lower than it had when the data set was smaller. An explanation could be that words are used in more than one context unlike country-capital vectors and hence don't have a simple relationship."
   ]
  },
  {
   "cell_type": "markdown",
   "metadata": {},
   "source": [
    "## Relation Establishment using Neural Nets"
   ]
  },
  {
   "cell_type": "code",
   "execution_count": 8,
   "metadata": {},
   "outputs": [
    {
     "name": "stderr",
     "output_type": "stream",
     "text": [
      "Using TensorFlow backend.\n"
     ]
    }
   ],
   "source": [
    "# importing the required libs\n",
    "from keras.models import Sequential\n",
    "from keras.layers import Dense\n",
    "import keras\n",
    "\n",
    "import math\n",
    "from scipy import spatial"
   ]
  },
  {
   "cell_type": "code",
   "execution_count": 9,
   "metadata": {},
   "outputs": [],
   "source": [
    "# Data preparation\n",
    "X = [x[0] for x in antonym_vectors]\n",
    "y = [x[1] for x in antonym_vectors]"
   ]
  },
  {
   "cell_type": "code",
   "execution_count": 97,
   "metadata": {},
   "outputs": [],
   "source": [
    "nn = Sequential()\n",
    "nn.add(Dense(12, input_dim=50, activation='sigmoid'))\n",
    "nn.add(Dense(12, activation='relu'))\n",
    "nn.add(Dense(12, activation='softmax'))\n",
    "nn.add(Dense(50, activation='linear'))\n",
    "nn.compile(loss='mean_squared_error', optimizer='adam', metrics=['accuracy'])"
   ]
  },
  {
   "cell_type": "code",
   "execution_count": 98,
   "metadata": {
    "scrolled": true
   },
   "outputs": [
    {
     "name": "stdout",
     "output_type": "stream",
     "text": [
      "Epoch 1/15\n",
      "1746/1746 [==============================] - 0s 152us/step - loss: 0.4629 - accuracy: 0.0716\n",
      "Epoch 2/15\n",
      "1746/1746 [==============================] - 0s 74us/step - loss: 0.4143 - accuracy: 0.8385\n",
      "Epoch 3/15\n",
      "1746/1746 [==============================] - 0s 74us/step - loss: 0.3814 - accuracy: 0.8385\n",
      "Epoch 4/15\n",
      "1746/1746 [==============================] - 0s 69us/step - loss: 0.3618 - accuracy: 0.8385\n",
      "Epoch 5/15\n",
      "1746/1746 [==============================] - 0s 77us/step - loss: 0.3508 - accuracy: 0.8385\n",
      "Epoch 6/15\n",
      "1746/1746 [==============================] - 0s 74us/step - loss: 0.3431 - accuracy: 0.8385\n",
      "Epoch 7/15\n",
      "1746/1746 [==============================] - 0s 77us/step - loss: 0.3372 - accuracy: 0.8385\n",
      "Epoch 8/15\n",
      "1746/1746 [==============================] - 0s 74us/step - loss: 0.3325 - accuracy: 0.8385\n",
      "Epoch 9/15\n",
      "1746/1746 [==============================] - 0s 73us/step - loss: 0.3287 - accuracy: 0.8385\n",
      "Epoch 10/15\n",
      "1746/1746 [==============================] - 0s 74us/step - loss: 0.3255 - accuracy: 0.8385\n",
      "Epoch 11/15\n",
      "1746/1746 [==============================] - 0s 77us/step - loss: 0.3228 - accuracy: 0.8385\n",
      "Epoch 12/15\n",
      "1746/1746 [==============================] - 0s 74us/step - loss: 0.3204 - accuracy: 0.8385\n",
      "Epoch 13/15\n",
      "1746/1746 [==============================] - 0s 71us/step - loss: 0.3180 - accuracy: 0.8385\n",
      "Epoch 14/15\n",
      "1746/1746 [==============================] - 0s 71us/step - loss: 0.3153 - accuracy: 0.8385\n",
      "Epoch 15/15\n",
      "1746/1746 [==============================] - 0s 78us/step - loss: 0.3125 - accuracy: 0.8385\n"
     ]
    }
   ],
   "source": [
    "# fit the keras model on the dataset\n",
    "history = nn.fit(np.array(X), np.array(y), epochs=15, batch_size=20)"
   ]
  },
  {
   "cell_type": "code",
   "execution_count": 99,
   "metadata": {},
   "outputs": [
    {
     "data": {
      "image/png": "[encoded data removed]",
      "text/plain": [
       "<Figure size 432x288 with 1 Axes>"
      ]
     },
     "metadata": {
      "needs_background": "light"
     },
     "output_type": "display_data"
    }
   ],
   "source": [
    "import matplotlib.pyplot as plt\n",
    "plt.plot(history.history['accuracy'])\n",
    "plt.title('Model accuracy')\n",
    "plt.ylabel('Accuracy')\n",
    "plt.xlabel('Epoch')\n",
    "plt.show()"
   ]
  },
  {
   "cell_type": "code",
   "execution_count": 100,
   "metadata": {},
   "outputs": [],
   "source": [
    "pred_val = nn.predict(np.array([model.get_vector(\"lazy\")]))\n",
    "actual_val = model.get_vector(\"active\")"
   ]
  },
  {
   "cell_type": "code",
   "execution_count": 101,
   "metadata": {},
   "outputs": [],
   "source": [
    "# cosine similarity functions\n",
    "def calculate_cosine_distance(a, b):\n",
    "    cosine_distance = float(spatial.distance.cosine(a, b))\n",
    "    return cosine_distance\n",
    "\n",
    "def calculate_cosine_similarity(a, b):\n",
    "    cosine_similarity = 1 - calculate_cosine_distance(a, b)\n",
    "    return cosine_similarity"
   ]
  },
  {
   "cell_type": "code",
   "execution_count": 102,
   "metadata": {},
   "outputs": [
    {
     "data": {
      "text/plain": [
       "0.6257471442222595"
      ]
     },
     "execution_count": 102,
     "metadata": {},
     "output_type": "execute_result"
    }
   ],
   "source": [
    "calculate_cosine_similarity(pred_val, actual_val)"
   ]
  },
  {
   "cell_type": "code",
   "execution_count": null,
   "metadata": {},
   "outputs": [],
   "source": []
  }
 ],
 "metadata": {
  "kernelspec": {
   "display_name": "Python 3",
   "language": "python",
   "name": "python3"
  },
  "language_info": {
   "codemirror_mode": {
    "name": "ipython",
    "version": 3
   },
   "file_extension": ".py",
   "mimetype": "text/x-python",
   "name": "python",
   "nbconvert_exporter": "python",
   "pygments_lexer": "ipython3",
   "version": "3.7.4"
  }
 },
 "nbformat": 4,
 "nbformat_minor": 4
}
