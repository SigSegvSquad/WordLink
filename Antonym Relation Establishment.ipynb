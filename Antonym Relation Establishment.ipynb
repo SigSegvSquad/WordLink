{
 "cells": [
  {
   "cell_type": "markdown",
   "metadata": {},
   "source": [
    "# Antonym Word Relation Establishment"
   ]
  },
  {
   "cell_type": "code",
   "execution_count": 1,
   "metadata": {},
   "outputs": [],
   "source": [
    "from gensim.models import Word2Vec\n",
    "from gensim.models import KeyedVectors\n",
    "import gensim.downloader\n",
    "#Import numpy for array calculation|\n",
    "import numpy as np\n",
    "\n",
    "import re\n",
    "\n",
    "#import nltk for string operations\n",
    "from nltk.stem import WordNetLemmatizer \n",
    "from nltk.corpus import stopwords \n",
    "from nltk.tokenize import word_tokenize\n",
    "\n",
    "import relations"
   ]
  },
  {
   "cell_type": "code",
   "execution_count": 2,
   "metadata": {},
   "outputs": [],
   "source": [
    "# import word list\n",
    "imported_tuples = relations.read_relations(\"./relations/antonyms.txt\")"
   ]
  },
  {
   "cell_type": "code",
   "execution_count": 99,
   "metadata": {},
   "outputs": [],
   "source": [
    "# Load the model\n",
    "model = gensim.downloader.load('glove-wiki-gigaword-50')\n",
    "dims = 50"
   ]
  },
  {
   "cell_type": "code",
   "execution_count": 100,
   "metadata": {},
   "outputs": [],
   "source": [
    "# preprocess data\n",
    "antonym_tuples = []\n",
    "for tup in imported_tuples:\n",
    "    if \" \" not in tup[0].strip() and \" \" not in tup[1].strip():\n",
    "        antonym_tuples.append((tup[0].strip().lower(), tup[1].strip().lower()))"
   ]
  },
  {
   "cell_type": "code",
   "execution_count": 77,
   "metadata": {},
   "outputs": [],
   "source": [
    "# conversion to vectors\n",
    "antonym_vectors = []\n",
    "for tup in antonym_tuples:\n",
    "    if tup[0] in model.vocab and tup[1] in model.vocab:\n",
    "        antonym_vectors.append((model.get_vector(tup[0]), model.get_vector(tup[1])))"
   ]
  },
  {
   "cell_type": "markdown",
   "metadata": {},
   "source": [
    "## Multi-Variate Linear Regression"
   ]
  },
  {
   "cell_type": "markdown",
   "metadata": {},
   "source": [
    "Given the input vector, the aim is to create a model that outputs its antonym vector. \n",
    "The output variable has multiple dimensions, the strategy is to regress over each dimension and get coefficients for each dimension."
   ]
  },
  {
   "cell_type": "code",
   "execution_count": 78,
   "metadata": {},
   "outputs": [],
   "source": [
    "from sklearn.linear_model import LinearRegression"
   ]
  },
  {
   "cell_type": "code",
   "execution_count": 79,
   "metadata": {},
   "outputs": [
    {
     "name": "stdout",
     "output_type": "stream",
     "text": [
      "Model score:  0.308727771650265\n"
     ]
    }
   ],
   "source": [
    "# create a coefficients array\n",
    "coeff = []\n",
    "intercepts = []\n",
    "avg_score = 0\n",
    "# regressing a linear model on each independent dimension of response variable\n",
    "for i in range(dims):\n",
    "    y = [x[0][i] for x in antonym_vectors]\n",
    "    x = [tup[1] for tup in antonym_vectors]\n",
    "    regr = LinearRegression()\n",
    "    regr.fit(x, y)\n",
    "    coeff.append(regr.coef_)\n",
    "    intercepts.append(regr.intercept_)\n",
    "    avg_score += regr.score(x,y)\n",
    "print(\"Model score: \", avg_score/dims)"
   ]
  },
  {
   "cell_type": "markdown",
   "metadata": {},
   "source": [
    "The model has a very low accuracy, lower than it had when the data set was smaller. An explanation could be that words are used in more than one context unlike country-capital vectors and hence don't have a simple relationship."
   ]
  },
  {
   "cell_type": "markdown",
   "metadata": {},
   "source": [
    "## Relation Establishment using Neural Nets"
   ]
  },
  {
   "cell_type": "code",
   "execution_count": 80,
   "metadata": {},
   "outputs": [],
   "source": [
    "# importing the required libs\n",
    "from keras.models import Sequential\n",
    "from keras.layers import Dense\n",
    "import keras\n",
    "\n",
    "import math\n",
    "from scipy import spatial"
   ]
  },
  {
   "cell_type": "code",
   "execution_count": 81,
   "metadata": {},
   "outputs": [],
   "source": [
    "# Data preparation\n",
    "X = [x[0] for x in antonym_vectors]\n",
    "y = [x[1] for x in antonym_vectors]"
   ]
  },
  {
   "cell_type": "code",
   "execution_count": 97,
   "metadata": {},
   "outputs": [],
   "source": [
    "nn = Sequential()\n",
    "nn.add(Dense(12, input_dim=dims, activation='sigmoid'))\n",
    "nn.add(Dense(12, activation='relu'))\n",
    "nn.add(Dense(12, activation='relu'))\n",
    "nn.add(Dense(12, activation='sigmoid'))\n",
    "nn.add(Dense(dims, activation='linear'))\n",
    "nn.compile(loss='mean_squared_error', optimizer='sgd', metrics=['accuracy'])"
   ]
  },
  {
   "cell_type": "code",
   "execution_count": 98,
   "metadata": {
    "scrolled": true
   },
   "outputs": [
    {
     "name": "stdout",
     "output_type": "stream",
     "text": [
      "Epoch 1/15\n",
      "1749/1749 [==============================] - 0s 108us/step - loss: 0.9157 - accuracy: 0.0154\n",
      "Epoch 2/15\n",
      "1749/1749 [==============================] - 0s 61us/step - loss: 0.6898 - accuracy: 0.2093\n",
      "Epoch 3/15\n",
      "1749/1749 [==============================] - 0s 58us/step - loss: 0.5663 - accuracy: 0.3928\n",
      "Epoch 4/15\n",
      "1749/1749 [==============================] - 0s 58us/step - loss: 0.4974 - accuracy: 0.3928\n",
      "Epoch 5/15\n",
      "1749/1749 [==============================] - 0s 59us/step - loss: 0.4592 - accuracy: 0.3928\n",
      "Epoch 6/15\n",
      "1749/1749 [==============================] - 0s 62us/step - loss: 0.4381 - accuracy: 0.3928\n",
      "Epoch 7/15\n",
      "1749/1749 [==============================] - 0s 66us/step - loss: 0.4266 - accuracy: 0.3928\n",
      "Epoch 8/15\n",
      "1749/1749 [==============================] - 0s 64us/step - loss: 0.4204 - accuracy: 0.3928\n",
      "Epoch 9/15\n",
      "1749/1749 [==============================] - 0s 61us/step - loss: 0.4171 - accuracy: 0.3928\n",
      "Epoch 10/15\n",
      "1749/1749 [==============================] - 0s 64us/step - loss: 0.4153 - accuracy: 0.3928\n",
      "Epoch 11/15\n",
      "1749/1749 [==============================] - 0s 70us/step - loss: 0.4144 - accuracy: 0.3928\n",
      "Epoch 12/15\n",
      "1749/1749 [==============================] - 0s 75us/step - loss: 0.4139 - accuracy: 0.3928\n",
      "Epoch 13/15\n",
      "1749/1749 [==============================] - 0s 63us/step - loss: 0.4136 - accuracy: 0.3928\n",
      "Epoch 14/15\n",
      "1749/1749 [==============================] - ETA: 0s - loss: 0.4161 - accuracy: 0.38 - 0s 67us/step - loss: 0.4134 - accuracy: 0.3928\n",
      "Epoch 15/15\n",
      "1749/1749 [==============================] - 0s 69us/step - loss: 0.4133 - accuracy: 0.3928\n"
     ]
    }
   ],
   "source": [
    "# fit the keras model on the dataset\n",
    "history = nn.fit(np.array(X), np.array(y), epochs=15, batch_size=20)"
   ]
  },
  {
   "cell_type": "code",
   "execution_count": 85,
   "metadata": {},
   "outputs": [
    {
     "data": {
      "image/png": "[encoded data removed]",
      "text/plain": [
       "<Figure size 432x288 with 1 Axes>"
      ]
     },
     "metadata": {
      "needs_background": "light"
     },
     "output_type": "display_data"
    }
   ],
   "source": [
    "import matplotlib.pyplot as plt\n",
    "plt.plot(history.history['accuracy'])\n",
    "plt.title('Model accuracy')\n",
    "plt.ylabel('Accuracy')\n",
    "plt.xlabel('Epoch')\n",
    "plt.show()"
   ]
  },
  {
   "cell_type": "code",
   "execution_count": 86,
   "metadata": {},
   "outputs": [],
   "source": [
    "pred_val = nn.predict(np.array([model.get_vector(\"lazy\")]))\n",
    "actual_val = model.get_vector(\"active\")"
   ]
  },
  {
   "cell_type": "code",
   "execution_count": 87,
   "metadata": {},
   "outputs": [],
   "source": [
    "# cosine similarity functions\n",
    "def calculate_cosine_distance(a, b):\n",
    "    cosine_distance = float(spatial.distance.cosine(a, b))\n",
    "    return cosine_distance\n",
    "\n",
    "def calculate_cosine_similarity(a, b):\n",
    "    cosine_similarity = 1 - calculate_cosine_distance(a, b)\n",
    "    return cosine_similarity"
   ]
  },
  {
   "cell_type": "code",
   "execution_count": 88,
   "metadata": {},
   "outputs": [
    {
     "data": {
      "text/plain": [
       "0.7912224531173706"
      ]
     },
     "execution_count": 88,
     "metadata": {},
     "output_type": "execute_result"
    }
   ],
   "source": [
    "calculate_cosine_similarity(pred_val, actual_val)"
   ]
  },
  {
   "cell_type": "code",
   "execution_count": null,
   "metadata": {},
   "outputs": [],
   "source": []
  }
 ],
 "metadata": {
  "kernelspec": {
   "display_name": "Python 3",
   "language": "python",
   "name": "python3"
  },
  "language_info": {
   "codemirror_mode": {
    "name": "ipython",
    "version": 3
   },
   "file_extension": ".py",
   "mimetype": "text/x-python",
   "name": "python",
   "nbconvert_exporter": "python",
   "pygments_lexer": "ipython3",
   "version": "3.7.4"
  }
 },
 "nbformat": 4,
 "nbformat_minor": 4
}
