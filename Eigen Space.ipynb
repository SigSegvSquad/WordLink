{
 "cells": [
  {
   "cell_type": "code",
   "execution_count": 2,
   "metadata": {},
   "outputs": [],
   "source": [
    "from gensim.models import Word2Vec\n",
    "from gensim.models import KeyedVectors\n",
    "import gensim.downloader\n",
    "\n",
    "import numpy as np\n",
    "\n",
    "import re\n",
    "\n",
    "from nltk.stem import WordNetLemmatizer \n",
    "from nltk.corpus import stopwords \n",
    "from nltk.tokenize import word_tokenize\n",
    "\n",
    "import relations"
   ]
  },
  {
   "cell_type": "code",
   "execution_count": 3,
   "metadata": {},
   "outputs": [],
   "source": [
    "# import word list\n",
    "imported_tuples = relations.read_relations(\"./relations/country-city.txt\")"
   ]
  },
  {
   "cell_type": "code",
   "execution_count": 4,
   "metadata": {},
   "outputs": [],
   "source": [
    "# Load the model\n",
    "model = gensim.downloader.load('glove-wiki-gigaword-50')\n",
    "dims = 50"
   ]
  },
  {
   "cell_type": "code",
   "execution_count": 5,
   "metadata": {},
   "outputs": [],
   "source": [
    "# preprocess data\n",
    "word_tuples = []\n",
    "for tup in imported_tuples:\n",
    "    if \" \" not in tup[0].strip() and \" \" not in tup[1].strip():\n",
    "        word_tuples.append((tup[0].strip().lower(), tup[1].strip().lower()))"
   ]
  },
  {
   "cell_type": "code",
   "execution_count": 6,
   "metadata": {},
   "outputs": [],
   "source": [
    "# conversion to vectors\n",
    "word_vectors = []\n",
    "for tup in word_tuples:\n",
    "    if tup[0] in model.index_to_key and tup[1] in model.index_to_key:\n",
    "        word_vectors.append((model.get_vector(tup[0]), model.get_vector(tup[1])))"
   ]
  },
  {
   "cell_type": "code",
   "execution_count": 7,
   "metadata": {},
   "outputs": [
    {
     "data": {
      "text/plain": [
       "[('afghanistan', 'kabul'),\n",
       " ('albania', 'tirana'),\n",
       " ('algeria', 'algiers'),\n",
       " ('angola', 'luanda'),\n",
       " ('armenia', 'yerevan')]"
      ]
     },
     "execution_count": 7,
     "metadata": {},
     "output_type": "execute_result"
    }
   ],
   "source": [
    "word_tuples[:5]"
   ]
  },
  {
   "cell_type": "code",
   "execution_count": 8,
   "metadata": {},
   "outputs": [
    {
     "data": {
      "text/plain": [
       "(array([ 0.83302  , -0.45109  ,  0.036124 , -0.071542 , -0.43803  ,\n",
       "        -0.35345  ,  0.44737  ,  0.80139  , -0.68828  , -0.78343  ,\n",
       "         0.72771  , -1.2222   ,  0.19957  , -0.77006  ,  0.58453  ,\n",
       "        -0.091821 ,  0.087678 ,  0.31854  ,  0.70997  ,  0.9374   ,\n",
       "        -0.46157  , -0.17633  , -0.40542  ,  0.67545  ,  0.089017 ,\n",
       "        -0.75488  ,  0.24461  , -0.059126 ,  0.0026154,  0.27766  ,\n",
       "         1.6444   ,  0.94396  , -1.3238   ,  0.020666 , -0.52746  ,\n",
       "         0.83906  , -0.86562  ,  0.067062 , -0.38675  ,  0.21263  ,\n",
       "        -0.069293 ,  0.36148  ,  0.83636  , -1.8639   , -0.85996  ,\n",
       "         0.55211  , -0.090987 ,  0.70084  , -0.11893  , -1.7953   ],\n",
       "       dtype=float32),\n",
       " array([ 0.82105 , -0.21744 ,  0.43371 ,  0.31729 , -0.94054 , -1.2881  ,\n",
       "         0.7401  ,  0.68178 , -1.1084  , -0.045213,  0.31385 , -1.5741  ,\n",
       "        -0.069105, -0.92858 , -0.12261 , -0.05564 , -0.58251 ,  1.3842  ,\n",
       "         0.28483 ,  0.50501 ,  0.24093 ,  1.017   , -0.26853 ,  0.60525 ,\n",
       "        -0.084759, -0.19643 ,  0.31081 ,  0.26701 , -0.96495 , -0.31305 ,\n",
       "         0.66752 ,  0.96167 , -0.91314 ,  0.015641,  0.18491 ,  0.51201 ,\n",
       "         0.082454, -0.25564 ,  0.40575 ,  0.59712 ,  0.15769 ,  0.33789 ,\n",
       "         0.35564 , -1.3098  , -0.53076 ,  0.39431 , -0.080233,  0.66756 ,\n",
       "         0.54732 , -1.4254  ], dtype=float32))"
      ]
     },
     "execution_count": 8,
     "metadata": {},
     "output_type": "execute_result"
    }
   ],
   "source": [
    "word_vectors[1]"
   ]
  },
  {
   "cell_type": "markdown",
   "metadata": {},
   "source": [
    "## Actual Work"
   ]
  },
  {
   "cell_type": "markdown",
   "metadata": {},
   "source": [
    "#### Create an Array X: x<sub>i</sub> = v<sub>i</sub> - u<sub>i</sub>"
   ]
  },
  {
   "cell_type": "code",
   "execution_count": 9,
   "metadata": {},
   "outputs": [
    {
     "data": {
      "text/plain": [
       "array([ 0.01196998, -0.23365001, -0.39758602, -0.388832  ,  0.50251   ,\n",
       "        0.93465   , -0.29273003,  0.11961001,  0.42012   , -0.738217  ,\n",
       "        0.41386002,  0.35189998,  0.268675  ,  0.15851998,  0.70713997,\n",
       "       -0.036181  ,  0.670188  , -1.06566   ,  0.42514   ,  0.43238997,\n",
       "       -0.7025    , -1.1933299 , -0.13689   ,  0.07020003,  0.173776  ,\n",
       "       -0.55845   , -0.0662    , -0.326136  ,  0.9675654 ,  0.59071004,\n",
       "        0.97688   , -0.01770997, -0.41065997,  0.005025  , -0.71237   ,\n",
       "        0.32705003, -0.94807404,  0.322702  , -0.7925    , -0.38448998,\n",
       "       -0.22698301,  0.02359   ,  0.48071998, -0.5540999 , -0.32920003,\n",
       "        0.15780002, -0.010754  ,  0.03328001, -0.66625   , -0.3699    ],\n",
       "      dtype=float32)"
      ]
     },
     "execution_count": 9,
     "metadata": {},
     "output_type": "execute_result"
    }
   ],
   "source": [
    "X = list()\n",
    "for u, v in word_vectors:\n",
    "    X.append(u - v)\n",
    "    \n",
    "X[1]"
   ]
  },
  {
   "cell_type": "markdown",
   "metadata": {},
   "source": [
    "#### Shift Origin by computing M and subtracting from X"
   ]
  },
  {
   "cell_type": "code",
   "execution_count": 10,
   "metadata": {},
   "outputs": [],
   "source": [
    "M = np.zeros((dims))\n",
    "\n",
    "for x in X:\n",
    "    M += x\n",
    "\n",
    "M /= len(X)"
   ]
  },
  {
   "cell_type": "code",
   "execution_count": 11,
   "metadata": {},
   "outputs": [
    {
     "data": {
      "text/plain": [
       "array([-0.16746133, -0.26994048,  0.14773648,  0.40287001,  0.13896023,\n",
       "        0.83586751, -0.09433237,  0.01654571,  0.60620341, -0.19630702,\n",
       "        0.45520297,  0.43295857,  0.16052792, -0.00137272,  0.34746849,\n",
       "       -0.12763229,  0.47484247, -0.4396687 ,  0.22809654,  0.02233975,\n",
       "       -0.78939633, -0.56049448,  0.35158877, -0.03756598,  0.28124142,\n",
       "       -0.50379695,  0.10671058, -0.60775114,  0.1895121 ,  0.30341821,\n",
       "        0.91621018,  0.22692747, -0.15959574,  0.40773427, -0.27974377,\n",
       "        0.08509954, -0.4772205 ,  0.19109579, -0.54973325, -0.5939445 ,\n",
       "       -0.07247331,  0.09992009,  0.42285058, -0.36621386,  0.02810357,\n",
       "        0.44685965, -0.39466281,  0.02177201, -0.26247528, -0.21880445])"
      ]
     },
     "execution_count": 11,
     "metadata": {},
     "output_type": "execute_result"
    }
   ],
   "source": [
    "M"
   ]
  },
  {
   "cell_type": "code",
   "execution_count": 12,
   "metadata": {},
   "outputs": [
    {
     "data": {
      "text/plain": [
       "array([ 0.17943131,  0.03629046, -0.5453225 , -0.79170201,  0.36354978,\n",
       "        0.0987825 , -0.19839766,  0.1030643 , -0.18608341, -0.54190997,\n",
       "       -0.04134295, -0.08105859,  0.10814708,  0.15989271,  0.35967148,\n",
       "        0.09145129,  0.19534554, -0.6259913 ,  0.19704346,  0.41005022,\n",
       "        0.08689634, -0.63283545, -0.48847876,  0.107766  , -0.10746542,\n",
       "       -0.05465303, -0.17291058,  0.28161515,  0.77805332,  0.28729183,\n",
       "        0.06066984, -0.24463744, -0.25106423, -0.40270927, -0.43262621,\n",
       "        0.24195049, -0.47085354,  0.1316062 , -0.24276677,  0.20945452,\n",
       "       -0.1545097 , -0.0763301 ,  0.0578694 , -0.18788606, -0.3573036 ,\n",
       "       -0.28905963,  0.38390881,  0.011508  , -0.40377471, -0.15109554])"
      ]
     },
     "execution_count": 12,
     "metadata": {},
     "output_type": "execute_result"
    }
   ],
   "source": [
    "for i in range(len(X)):\n",
    "    X[i] = X[i] - M\n",
    "\n",
    "X[1]"
   ]
  },
  {
   "cell_type": "markdown",
   "metadata": {},
   "source": [
    "#### Compute the Covariance matrix K"
   ]
  },
  {
   "cell_type": "code",
   "execution_count": 13,
   "metadata": {},
   "outputs": [
    {
     "data": {
      "text/plain": [
       "0.17943131063374684"
      ]
     },
     "execution_count": 13,
     "metadata": {},
     "output_type": "execute_result"
    }
   ],
   "source": [
    "dim = dict()\n",
    "\n",
    "for i in range(dims):\n",
    "    dim[i] = np.zeros((len(X)))\n",
    "    for j in range(len(X)):\n",
    "        dim[i][j] = X[j][i]\n",
    "\n",
    "# should be 0.17555907 (see above)\n",
    "dim[0][1]"
   ]
  },
  {
   "cell_type": "code",
   "execution_count": 14,
   "metadata": {},
   "outputs": [
    {
     "name": "stdout",
     "output_type": "stream",
     "text": [
      "-0.03580950646788528 -0.11962651271078226\n",
      "0.004283766380647317\n"
     ]
    }
   ],
   "source": [
    "# test that * works as element-wise product\n",
    "print(dim[1][0], dim[2][0])\n",
    "\n",
    "print((dim[1] * dim[2])[0])"
   ]
  },
  {
   "cell_type": "code",
   "execution_count": 15,
   "metadata": {},
   "outputs": [
    {
     "data": {
      "text/plain": [
       "0.02107461676235216"
      ]
     },
     "execution_count": 15,
     "metadata": {},
     "output_type": "execute_result"
    }
   ],
   "source": [
    "def covariance(i, j):\n",
    "    temp_array = dim[i] * dim[j]    \n",
    "    k = np.sum(temp_array)/len(X)\n",
    "    #print(k, temp_array)\n",
    "    return k\n",
    "    \n",
    "covariance(1, 2)"
   ]
  },
  {
   "cell_type": "code",
   "execution_count": 16,
   "metadata": {},
   "outputs": [
    {
     "data": {
      "text/plain": [
       "0.02107461676235216"
      ]
     },
     "execution_count": 16,
     "metadata": {},
     "output_type": "execute_result"
    }
   ],
   "source": [
    "K = np.zeros((dims, dims))\n",
    "\n",
    "for i in range(dims):    \n",
    "    for j in range(dims):\n",
    "        K[i][j] = covariance(i, j)\n",
    "        \n",
    "K[1][2]"
   ]
  },
  {
   "cell_type": "code",
   "execution_count": 33,
   "metadata": {},
   "outputs": [
    {
     "data": {
      "text/plain": [
       "(array([1.00244385, 0.68029064, 0.5850016 , 0.50181911, 0.45811383,\n",
       "        0.42209691, 0.36218514, 0.34618343, 0.32222055, 0.3154165 ,\n",
       "        0.26328737, 0.25958291, 0.23576551, 0.21104976, 0.20178519,\n",
       "        0.18492403, 0.17671467, 0.14980042, 0.1475237 , 0.13995451,\n",
       "        0.12886042, 0.11449635, 0.10983665, 0.10055874, 0.09503518,\n",
       "        0.09103855, 0.08417678, 0.07793335, 0.07367732, 0.0705138 ,\n",
       "        0.06465424, 0.06235307, 0.0604404 , 0.05617269, 0.04196334,\n",
       "        0.04007382, 0.03712316, 0.03084347, 0.02913823, 0.02467993,\n",
       "        0.02362469, 0.01784515, 0.01404871, 0.00497884, 0.00129363,\n",
       "        0.00167848, 0.00224649, 0.00302789, 0.00368294, 0.00358384]),\n",
       " array([[ 0.10686747, -0.00548069,  0.18507237, ...,  0.15276877,\n",
       "         -0.08820277, -0.03310572],\n",
       "        [-0.08439332, -0.34861174, -0.25638246, ...,  0.10971348,\n",
       "         -0.00039904,  0.04962353],\n",
       "        [-0.02751158,  0.02971406, -0.21743432, ..., -0.15147681,\n",
       "          0.24564685, -0.13620884],\n",
       "        ...,\n",
       "        [ 0.15749037, -0.00077459, -0.04396991, ...,  0.09611586,\n",
       "         -0.01771051,  0.01508567],\n",
       "        [ 0.12721597,  0.09868181, -0.02299006, ...,  0.16350913,\n",
       "          0.23183069,  0.21390158],\n",
       "        [-0.19671851,  0.0364647 ,  0.06451016, ..., -0.18773394,\n",
       "          0.06453366,  0.11308482]]))"
      ]
     },
     "execution_count": 33,
     "metadata": {},
     "output_type": "execute_result"
    }
   ],
   "source": [
    "# maybe replace with custom function\n",
    "\n",
    "eigenvalues, eigenvectors = np.linalg.eig(K)\n",
    "\n",
    "eigenvalues, eigenvectors"
   ]
  },
  {
   "cell_type": "code",
   "execution_count": 34,
   "metadata": {},
   "outputs": [],
   "source": [
    "eigenvectors = eigenvectors.T"
   ]
  },
  {
   "cell_type": "code",
   "execution_count": 35,
   "metadata": {},
   "outputs": [],
   "source": [
    "# selecting top k eigen vectors\n",
    "k = 10\n",
    "top_k_eig = eigenvectors[:k]"
   ]
  },
  {
   "cell_type": "code",
   "execution_count": 36,
   "metadata": {},
   "outputs": [],
   "source": [
    "def getProjectionOnEigSpace(point):\n",
    "    projected_vector = []\n",
    "    for eigvec in top_k_eig:\n",
    "        projected_vector.append(np.dot(point, eigvec))\n",
    "    return projected_vector"
   ]
  },
  {
   "cell_type": "code",
   "execution_count": 37,
   "metadata": {},
   "outputs": [
    {
     "data": {
      "text/plain": [
       "[-1.1601698835577354,\n",
       " -1.115070366022729,\n",
       " -1.2812101352924623,\n",
       " -1.611899824373968,\n",
       " 1.7889040385397394,\n",
       " 0.7522699097705754,\n",
       " -1.4527401450323325,\n",
       " 0.5906267584522675,\n",
       " 2.2436400066530533,\n",
       " 0.10116232939267411]"
      ]
     },
     "execution_count": 37,
     "metadata": {},
     "output_type": "execute_result"
    }
   ],
   "source": [
    "getProjectionOnEigSpace(model.get_vector(\"india\"))"
   ]
  },
  {
   "cell_type": "code",
   "execution_count": 42,
   "metadata": {},
   "outputs": [
    {
     "data": {
      "text/plain": [
       "8.153200337090993e-17"
      ]
     },
     "execution_count": 42,
     "metadata": {},
     "output_type": "execute_result"
    }
   ],
   "source": [
    "np.dot(eigenvectors[0], eigenvectors[6])"
   ]
  },
  {
   "cell_type": "code",
   "execution_count": null,
   "metadata": {},
   "outputs": [],
   "source": []
  }
 ],
 "metadata": {
  "kernelspec": {
   "display_name": "Python 3 (ipykernel)",
   "language": "python",
   "name": "python3"
  },
  "language_info": {
   "codemirror_mode": {
    "name": "ipython",
    "version": 3
   },
   "file_extension": ".py",
   "mimetype": "text/x-python",
   "name": "python",
   "nbconvert_exporter": "python",
   "pygments_lexer": "ipython3",
   "version": "3.8.10"
  }
 },
 "nbformat": 4,
 "nbformat_minor": 4
}
