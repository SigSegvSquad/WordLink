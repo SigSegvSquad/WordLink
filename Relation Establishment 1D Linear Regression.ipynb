{
 "cells": [
  {
   "cell_type": "markdown",
   "metadata": {},
   "source": [
    "# Establish Relations - 1D"
   ]
  },
  {
   "cell_type": "code",
   "execution_count": 1,
   "metadata": {},
   "outputs": [],
   "source": [
    "from gensim.models import Word2Vec\n",
    "from gensim.models import KeyedVectors\n",
    "import gensim.downloader\n",
    "#Import numpy for array calculation\n",
    "import numpy as np\n",
    "\n",
    "import re\n",
    "\n",
    "#import nltk for string operations\n",
    "from nltk.stem import WordNetLemmatizer \n",
    "from nltk.corpus import stopwords \n",
    "from nltk.tokenize import word_tokenize"
   ]
  },
  {
   "cell_type": "code",
   "execution_count": 2,
   "metadata": {},
   "outputs": [],
   "source": [
    "# Load the model\n",
    "model = gensim.downloader.load('glove-wiki-gigaword-50')\n",
    "dims = 50"
   ]
  },
  {
   "cell_type": "code",
   "execution_count": 3,
   "metadata": {},
   "outputs": [],
   "source": [
    "# Prepared a country-capital tuple list\n",
    "country_capital_tuples = [\n",
    "(\"india\", \"delhi\"),\n",
    "(\"afghanistan\", \"kabul\"),\n",
    "(\"angola\", \"luanda\"),\n",
    "(\"australia\", \"canberra\"),\n",
    "(\"brazil\", \"brasilia\"),\n",
    "(\"canada\", \"ottawa\"),\n",
    "(\"denmark\", \"copenhagen\"),\n",
    "(\"egypt\", \"cairo\"),\n",
    "(\"england\", \"london\"),\n",
    "(\"greece\", \"athens\"),\n",
    "(\"indonesia\", \"jakarta\"),\n",
    "(\"iran\", \"tehran\"),\n",
    "(\"ireland\", \"dublin\"),\n",
    "(\"japan\", \"tokyo\"),\n",
    "(\"russia\", \"moscow\"),\n",
    "(\"spain\", \"madrid\"),\n",
    "(\"chile\", \"santiago\")\n",
    "]"
   ]
  },
  {
   "cell_type": "code",
   "execution_count": 4,
   "metadata": {},
   "outputs": [],
   "source": [
    "# created a separate list for country-capital word vectors\n",
    "country_capital_vectors = []\n",
    "\n",
    "# temporarily reducing dimensions to 1\n",
    "x_1d = []\n",
    "y_1d = []\n",
    "\n",
    "for tup in country_capital_tuples:\n",
    "    country_vec = model.get_vector(tup[0])[0]\n",
    "    y_1d.append(country_vec)\n",
    "    capital_vec = model.get_vector(tup[1])[0]\n",
    "    x_1d.append(capital_vec)\n",
    "    country_capital_vectors.append((country_vec, capital_vec))\n"
   ]
  },
  {
   "cell_type": "markdown",
   "metadata": {},
   "source": [
    "## Relation Visualisation"
   ]
  },
  {
   "cell_type": "markdown",
   "metadata": {},
   "source": [
    "### 2D Plot Test"
   ]
  },
  {
   "cell_type": "code",
   "execution_count": 14,
   "metadata": {},
   "outputs": [],
   "source": [
    "import matplotlib.pyplot as plt\n",
    "import pandas as pd\n",
    "%matplotlib inline"
   ]
  },
  {
   "cell_type": "code",
   "execution_count": 15,
   "metadata": {},
   "outputs": [
    {
     "data": {
      "text/plain": [
       "[]"
      ]
     },
     "execution_count": 15,
     "metadata": {},
     "output_type": "execute_result"
    },
    {
     "data": {
      "image/png": "[encoded data removed]",
      "text/plain": [
       "<Figure size 432x288 with 1 Axes>"
      ]
     },
     "metadata": {
      "needs_background": "light"
     },
     "output_type": "display_data"
    }
   ],
   "source": [
    "plt.scatter(x_1d, y_1d)\n",
    "for i in range(len(x_1d)):\n",
    "    plt.annotate(i+1, (x_1d[i], y_1d[i]))\n",
    "plt.plot()"
   ]
  },
  {
   "cell_type": "markdown",
   "metadata": {},
   "source": [
    "**Even with just 1 dimension of each country-capital vector, they seem to be positively correlated**"
   ]
  },
  {
   "cell_type": "markdown",
   "metadata": {},
   "source": [
    "## Linear Regression"
   ]
  },
  {
   "cell_type": "markdown",
   "metadata": {},
   "source": [
    "Since we want to establish a relationship between each country vector and capital vector with each vector having 50 dimensions, we'll have to regress separately on each dimension of the dependent variable."
   ]
  },
  {
   "cell_type": "code",
   "execution_count": 7,
   "metadata": {},
   "outputs": [],
   "source": [
    "from sklearn.linear_model import LinearRegression"
   ]
  },
  {
   "cell_type": "code",
   "execution_count": 8,
   "metadata": {},
   "outputs": [
    {
     "name": "stdout",
     "output_type": "stream",
     "text": [
      "Model Score:  0.6760994330863767\n"
     ]
    }
   ],
   "source": [
    "# coefficients & intercepts \n",
    "coeff = []\n",
    "intecept = 0\n",
    "\n",
    "#reshaping x_1d\n",
    "x_1d_train = np.array(x_1d).reshape((-1,1))\n",
    "y_1d = np.array(y_1d)\n",
    "\n",
    "# regression over country-capital 1D points\n",
    "regr = LinearRegression()\n",
    "regr.fit(x_1d_train, y_1d)\n",
    "coeff = regr.coef_\n",
    "intercept = regr.intercept_\n",
    "print(\"Model Score: \", regr.score(x_1d_train,y_1d))"
   ]
  },
  {
   "cell_type": "code",
   "execution_count": 19,
   "metadata": {},
   "outputs": [
    {
     "data": {
      "image/png": "[encoded data removed]",
      "text/plain": [
       "<Figure size 432x288 with 1 Axes>"
      ]
     },
     "metadata": {
      "needs_background": "light"
     },
     "output_type": "display_data"
    }
   ],
   "source": [
    "def predict_y(x):\n",
    "    return coeff[0]*x + intercept\n",
    "\n",
    "# plotting the regression line\n",
    "start_point_y = predict_y(min(x_1d))\n",
    "end_point_y = predict_y(max(x_1d))\n",
    "\n",
    "plt.scatter(x_1d, y_1d, c=\"blue\")\n",
    "plt.plot([min(x_1d),max(x_1d)], [start_point_y, end_point_y], c=\"red\")\n",
    "plt.show()"
   ]
  },
  {
   "cell_type": "markdown",
   "metadata": {},
   "source": [
    "This clearly proves that there is correlation between a country and its state vector."
   ]
  },
  {
   "cell_type": "code",
   "execution_count": null,
   "metadata": {},
   "outputs": [],
   "source": []
  }
 ],
 "metadata": {
  "kernelspec": {
   "display_name": "Python 3",
   "language": "python",
   "name": "python3"
  },
  "language_info": {
   "codemirror_mode": {
    "name": "ipython",
    "version": 3
   },
   "file_extension": ".py",
   "mimetype": "text/x-python",
   "name": "python",
   "nbconvert_exporter": "python",
   "pygments_lexer": "ipython3",
   "version": "3.7.4"
  }
 },
 "nbformat": 4,
 "nbformat_minor": 4
}
