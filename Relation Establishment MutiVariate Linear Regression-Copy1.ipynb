{
 "cells": [
  {
   "cell_type": "markdown",
   "metadata": {},
   "source": [
    "# Establish Relations "
   ]
  },
  {
   "cell_type": "code",
   "execution_count": 1,
   "metadata": {},
   "outputs": [],
   "source": [
    "from gensim.models import Word2Vec\n",
    "from gensim.models import KeyedVectors\n",
    "import gensim.downloader\n",
    "#Import numpy for array calculation\n",
    "import numpy as np\n",
    "\n",
    "import re\n",
    "\n",
    "#import nltk for string operations\n",
    "from nltk.stem import WordNetLemmatizer \n",
    "from nltk.corpus import stopwords \n",
    "from nltk.tokenize import word_tokenize\n",
    "\n",
    "import relations"
   ]
  },
  {
   "cell_type": "code",
   "execution_count": 2,
   "metadata": {},
   "outputs": [],
   "source": [
    "# Load the model\n",
    "model = gensim.downloader.load('glove-wiki-gigaword-50')\n",
    "dims = 50"
   ]
  },
  {
   "cell_type": "code",
   "execution_count": 3,
   "metadata": {},
   "outputs": [],
   "source": [
    "# Prepared a country-capital tuple list\n",
    "country_capital_tuples = relations.read_relations(\"./relations/country-city.txt\")"
   ]
  },
  {
   "cell_type": "code",
   "execution_count": 4,
   "metadata": {},
   "outputs": [],
   "source": [
    "# created a separate list for country-capital word vectors\n",
    "country_capital_vectors = []\n",
    "\n",
    "for tup in country_capital_tuples:\n",
    "    try:\n",
    "        country_vec = model[tup[0].lower()]\n",
    "        capital_vec = model[tup[1].lower().strip()]\n",
    "        country_capital_vectors.append((country_vec, capital_vec))\n",
    "    except:\n",
    "        print(tup[0], tup[1])\n"
   ]
  },
  {
   "cell_type": "markdown",
   "metadata": {},
   "source": [
    "## Relation Visualisation"
   ]
  },
  {
   "cell_type": "markdown",
   "metadata": {},
   "source": [
    "### Reduction to 3 - dimensions"
   ]
  },
  {
   "cell_type": "code",
   "execution_count": 5,
   "metadata": {},
   "outputs": [],
   "source": [
    "import matplotlib.pyplot as plt\n",
    "import pandas as pd\n",
    "%matplotlib notebook"
   ]
  },
  {
   "cell_type": "code",
   "execution_count": 6,
   "metadata": {},
   "outputs": [],
   "source": [
    "# Reduced dimensionality of word vectors to two\n",
    "\n",
    "vec_3d = []\n",
    "start_idx = 0\n",
    "end_idx = 3\n",
    "for tup in country_capital_vectors:\n",
    "    vec_3d.append((tup[0][start_idx:end_idx], tup[1][start_idx:end_idx]))"
   ]
  },
  {
   "cell_type": "code",
   "execution_count": 7,
   "metadata": {},
   "outputs": [],
   "source": [
    "# plot country points\n",
    "x1 = np.array([a[0] for a,b in vec_3d])\n",
    "y1 = np.array([a[1] for a,b in vec_3d])\n",
    "z1 = np.array([a[2] for a,b in vec_3d])\n",
    "#capital points\n",
    "x2 = np.array([b[0] for a,b in vec_3d])\n",
    "y2 = np.array([b[1] for a,b in vec_3d])\n",
    "z2 = np.array([b[2] for a,b in vec_3d])"
   ]
  },
  {
   "cell_type": "markdown",
   "metadata": {},
   "source": [
    "fig = plt.figure(figsize = (7,5))\n",
    "ax = plt.axes(projection =\"3d\")\n",
    "\n",
    "ax.scatter3D(x1,y1,z1, color = 'blue' )\n",
    "for i in range(len(x1)):\n",
    "    ax.text(x1[i],y1[i],z1[i], str(i+1))\n",
    "\n",
    "ax.scatter3D(x2,y2,z2,color = 'red')\n",
    "for i in range(len(x1)):\n",
    "    ax.text(x2[i],y2[i],z2[i], str(i+1))\n",
    "\n",
    "plt.legend([\"Country\", \"Capital\"])\n",
    "\n",
    "plt.show()"
   ]
  },
  {
   "cell_type": "markdown",
   "metadata": {},
   "source": [
    "## Multivariate Multiple Linear Regression"
   ]
  },
  {
   "cell_type": "markdown",
   "metadata": {},
   "source": [
    "Since we want to establish a relationship between each country vector and capital vector with each vector having 50 dimensions, we'll have to regress separately on each dimension of the dependent variable."
   ]
  },
  {
   "cell_type": "code",
   "execution_count": 15,
   "metadata": {},
   "outputs": [],
   "source": [
    "from sklearn.linear_model import LinearRegression"
   ]
  },
  {
   "cell_type": "code",
   "execution_count": 16,
   "metadata": {},
   "outputs": [
    {
     "data": {
      "text/plain": [
       "array([-0.20356 , -0.8707  , -0.19172 ,  0.73862 ,  0.18494 ,  0.14926 ,\n",
       "        0.48079 , -0.21633 ,  0.72753 , -0.36912 ,  0.13397 , -0.1143  ,\n",
       "       -0.18075 , -0.64683 , -0.18484 ,  0.83575 ,  0.48179 ,  0.76026 ,\n",
       "       -0.50381 ,  0.80743 ,  1.2195  ,  0.3459  ,  0.22185 ,  0.31335 ,\n",
       "        1.2066  , -1.8441  ,  0.14064 , -0.99715 , -1.1402  ,  0.32342 ,\n",
       "        3.2128  ,  0.42708 ,  0.19504 ,  0.80113 ,  0.38555 , -0.12568 ,\n",
       "       -0.26533 ,  0.055264, -1.1557  ,  0.16836 , -0.82228 ,  0.20394 ,\n",
       "        0.089235, -0.60125 , -0.032878,  1.3735  , -0.51661 ,  0.29611 ,\n",
       "        0.23951 , -1.3801  ], dtype=float32)"
      ]
     },
     "execution_count": 16,
     "metadata": {},
     "output_type": "execute_result"
    }
   ],
   "source": [
    "model.get_vector(\"india\") # y1 = ax + bx2 + cx3 + c"
   ]
  },
  {
   "cell_type": "code",
   "execution_count": 17,
   "metadata": {},
   "outputs": [
    {
     "name": "stdout",
     "output_type": "stream",
     "text": [
      "Model score:  0.7872284582058566\n"
     ]
    }
   ],
   "source": [
    "# create a coefficients array\n",
    "coeff = []\n",
    "intercepts = []\n",
    "avg_score = 0\n",
    "# regressing a linear model on each independent dimension of response variable\n",
    "for i in range(dims):\n",
    "    y = [x[i] for x in country_vecs]\n",
    "    x = capital_vecs\n",
    "    regr = LinearRegression()\n",
    "    regr.fit(x, y)\n",
    "    coeff.append(regr.coef_)\n",
    "    intercepts.append(regr.intercept_)\n",
    "    avg_score += regr.score(x,y)\n",
    "print(\"Model score: \", avg_score/dims)"
   ]
  },
  {
   "cell_type": "markdown",
   "metadata": {},
   "source": [
    "Each list in coeff represent the coefficients of that particular dimension"
   ]
  },
  {
   "cell_type": "code",
   "execution_count": 18,
   "metadata": {},
   "outputs": [],
   "source": [
    "# Predicting country vectors from the coefficients\n",
    "country_vecs_pred = []\n",
    "for cap_vec in capital_vecs:\n",
    "    country_vec = []\n",
    "    for i in range(dims):\n",
    "        country_vec.append(sum([a*b for a,b in zip(cap_vec,coeff[i])]) + intercepts[i])\n",
    "    country_vecs_pred.append(np.array(country_vec))"
   ]
  },
  {
   "cell_type": "markdown",
   "metadata": {},
   "source": [
    "Plotting the predicted and actual values in 3d space"
   ]
  },
  {
   "cell_type": "markdown",
   "metadata": {},
   "source": [
    "#actual points\n",
    "x1 = np.array([a[0] for a in country_vecs])\n",
    "y1 = np.array([a[1] for a in country_vecs])\n",
    "z1 = np.array([a[2] for a in country_vecs])\n",
    "\n",
    "#predicted points\n",
    "x2 = np.array([a[0] for a in country_vecs_pred])\n",
    "y2 = np.array([a[1] for a in country_vecs_pred])\n",
    "z2 = np.array([a[2] for a in country_vecs_pred])\n",
    "\n",
    "#3d plotting of the points\n",
    "fig = plt.figure(figsize = (7,5))\n",
    "ax = plt.axes(projection =\"3d\")\n",
    "\n",
    "ax.scatter3D(x1,y1,z1, color = 'blue')\n",
    "for i in range(len(x1)):\n",
    "    ax.text(x1[i],y1[i],z1[i], str(i+1))\n",
    "\n",
    "ax.scatter3D(x2,y2,z2,color = 'red')\n",
    "for i in range(len(x1)):\n",
    "    ax.text(x2[i],y2[i],z2[i], str(i+1))\n",
    "\n",
    "plt.legend([\"Actual\", \"Predicted\"])\n",
    "\n",
    "plt.show()"
   ]
  },
  {
   "cell_type": "markdown",
   "metadata": {},
   "source": [
    "**Testing on country-capital pairs outside the training set**"
   ]
  },
  {
   "cell_type": "code",
   "execution_count": 20,
   "metadata": {},
   "outputs": [
    {
     "data": {
      "text/plain": [
       "array([-0.28454536, -0.57818883, -0.14240528,  0.59526229,  0.10127134,\n",
       "       -0.1738913 ,  0.27610445, -0.16543022,  0.89064522, -0.62444191,\n",
       "        0.19509159, -0.21489233,  0.13871893, -0.45864954, -0.060893  ,\n",
       "        1.04250209,  0.48640189,  0.47583331, -0.49979887,  1.0555295 ,\n",
       "        0.79811794,  0.11726616,  0.2773406 ,  0.31930587,  1.10137744,\n",
       "       -1.7283029 ,  0.40846794, -0.75157191, -1.02560588,  0.36716251,\n",
       "        2.6931011 ,  0.69254462,  0.25064179,  0.66257842,  0.31880789,\n",
       "        0.04387083,  0.04128279, -0.05560709, -1.11510517,  0.15490074,\n",
       "       -0.81673772,  0.30231851,  0.04179684, -0.52633328,  0.13519456,\n",
       "        1.27182813, -0.63266816,  0.59181991,  0.42529267, -1.21362986])"
      ]
     },
     "execution_count": 20,
     "metadata": {},
     "output_type": "execute_result"
    }
   ],
   "source": [
    "country_vec = []\n",
    "cap_vec = model.get_vector(\"delhi\")\n",
    "for i in range(dims):\n",
    "    country_vec.append(sum([a*b for a,b in zip(cap_vec,coeff[i])]) + intercepts[i])\n",
    "np.array(country_vec)"
   ]
  },
  {
   "cell_type": "code",
   "execution_count": 21,
   "metadata": {},
   "outputs": [
    {
     "data": {
      "text/plain": [
       "array([-0.20356 , -0.8707  , -0.19172 ,  0.73862 ,  0.18494 ,  0.14926 ,\n",
       "        0.48079 , -0.21633 ,  0.72753 , -0.36912 ,  0.13397 , -0.1143  ,\n",
       "       -0.18075 , -0.64683 , -0.18484 ,  0.83575 ,  0.48179 ,  0.76026 ,\n",
       "       -0.50381 ,  0.80743 ,  1.2195  ,  0.3459  ,  0.22185 ,  0.31335 ,\n",
       "        1.2066  , -1.8441  ,  0.14064 , -0.99715 , -1.1402  ,  0.32342 ,\n",
       "        3.2128  ,  0.42708 ,  0.19504 ,  0.80113 ,  0.38555 , -0.12568 ,\n",
       "       -0.26533 ,  0.055264, -1.1557  ,  0.16836 , -0.82228 ,  0.20394 ,\n",
       "        0.089235, -0.60125 , -0.032878,  1.3735  , -0.51661 ,  0.29611 ,\n",
       "        0.23951 , -1.3801  ], dtype=float32)"
      ]
     },
     "execution_count": 21,
     "metadata": {},
     "output_type": "execute_result"
    }
   ],
   "source": [
    "model.get_vector(\"india\")"
   ]
  },
  {
   "cell_type": "code",
   "execution_count": 22,
   "metadata": {},
   "outputs": [
    {
     "data": {
      "text/plain": [
       "4.338153551923051"
      ]
     },
     "execution_count": 22,
     "metadata": {},
     "output_type": "execute_result"
    }
   ],
   "source": [
    "np.linalg.norm(country_vec-model.get_vector(\"china\"))"
   ]
  },
  {
   "cell_type": "code",
   "execution_count": null,
   "metadata": {},
   "outputs": [],
   "source": []
  },
  {
   "cell_type": "code",
   "execution_count": null,
   "metadata": {},
   "outputs": [],
   "source": []
  }
 ],
 "metadata": {
  "kernelspec": {
   "display_name": "Python 3",
   "language": "python",
   "name": "python3"
  },
  "language_info": {
   "codemirror_mode": {
    "name": "ipython",
    "version": 3
   },
   "file_extension": ".py",
   "mimetype": "text/x-python",
   "name": "python",
   "nbconvert_exporter": "python",
   "pygments_lexer": "ipython3",
   "version": "3.8.10"
  }
 },
 "nbformat": 4,
 "nbformat_minor": 4
}
