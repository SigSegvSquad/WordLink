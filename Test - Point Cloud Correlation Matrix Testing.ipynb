{
 "cells": [
  {
   "cell_type": "code",
   "execution_count": 40,
   "id": "127ea129",
   "metadata": {},
   "outputs": [],
   "source": [
    "import numpy as np\n",
    "import matplotlib.pyplot as plt\n",
    "import random\n",
    "%matplotlib inline"
   ]
  },
  {
   "cell_type": "code",
   "execution_count": 103,
   "id": "a58acf07",
   "metadata": {},
   "outputs": [],
   "source": [
    "X = [i for i in range(-20,20)]\n",
    "y = [3*x for x in X]"
   ]
  },
  {
   "cell_type": "code",
   "execution_count": 104,
   "id": "44b812c4",
   "metadata": {},
   "outputs": [],
   "source": [
    "y_points = list(map(lambda x: x+random.random()*5 * (-1 if random.random()>0.5 else 1), y))"
   ]
  },
  {
   "cell_type": "code",
   "execution_count": 105,
   "id": "fe958de0",
   "metadata": {},
   "outputs": [
    {
     "data": {
      "text/plain": [
       "[<matplotlib.lines.Line2D at 0x7f4309f830a0>]"
      ]
     },
     "execution_count": 105,
     "metadata": {},
     "output_type": "execute_result"
    },
    {
     "data": {
      "image/png": "[encoded data removed]",
      "text/plain": [
       "<Figure size 432x288 with 1 Axes>"
      ]
     },
     "metadata": {
      "needs_background": "light"
     },
     "output_type": "display_data"
    }
   ],
   "source": [
    "#plt.plot(X,y)\n",
    "plt.plot(X, y_points, 'ro')"
   ]
  },
  {
   "cell_type": "code",
   "execution_count": 106,
   "id": "5032caa6",
   "metadata": {},
   "outputs": [
    {
     "name": "stdout",
     "output_type": "stream",
     "text": [
      "[(-20, -62.15085162599303), (-19, -54.51403747498398), (-18, -49.000021187095726), (-17, -51.18670163727176), (-16, -43.42391997068769), (-15, -44.259170430663545), (-14, -42.488156944786894), (-13, -41.47193523228339), (-12, -33.257317477299075), (-11, -36.732724022136196), (-10, -30.020179548722403), (-9, -23.23697931732584), (-8, -20.073946884767018), (-7, -24.3647932746398), (-6, -14.206686912455336), (-5, -17.41705585983766), (-4, -12.325088003585503), (-3, -6.986957857072399), (-2, -3.175149915941123), (-1, -6.660403390148619), (0, 1.9768514768874028), (1, 0.2563683975417579), (2, 5.2619427683375255), (3, 7.652441295459932), (4, 12.283475371224782), (5, 13.428432592610914), (6, 22.147629960918504), (7, 17.675419383133825), (8, 23.646729424230706), (9, 30.303070983228338), (10, 27.341282067820913), (11, 35.95610103311485), (12, 33.5855128380639), (13, 41.01248039149766), (14, 42.70484666919732), (15, 47.57152139614551), (16, 52.91956116144942), (17, 55.83972052551522), (18, 51.04324082371767), (19, 61.24507942851913)]\n"
     ]
    }
   ],
   "source": [
    "point_tuples = list(zip(X,y_points))\n",
    "print(point_tuples)\n",
    "dims = 2"
   ]
  },
  {
   "cell_type": "code",
   "execution_count": 107,
   "id": "3cd32273",
   "metadata": {},
   "outputs": [],
   "source": [
    "def get_covariance_matrix(points):\n",
    "    eX = list()\n",
    "    for pt in points:\n",
    "        eX.append(pt)\n",
    "    print(eX)\n",
    "    #print(points)\n",
    "    M = np.zeros((dims))\n",
    "\n",
    "    for x in eX:\n",
    "        M += x\n",
    "\n",
    "    M /= len(eX)\n",
    "    print(M)\n",
    "    for i in range(len(eX)):\n",
    "        eX[i] = eX[i] - M\n",
    "    \n",
    "    dim = dict()\n",
    "    for i in range(dims):\n",
    "        dim[i] = np.zeros((len(eX)))\n",
    "        for j in range(len(eX)):\n",
    "            dim[i][j] = eX[j][i]\n",
    "    def covariance(i, j):\n",
    "        temp_array = dim[i] * dim[j]    \n",
    "        k = np.sum(temp_array)/len(eX)\n",
    "        #print(k, temp_array)\n",
    "        return k\n",
    "    K = np.zeros((dims, dims))\n",
    "\n",
    "    for i in range(dims):    \n",
    "        for j in range(dims):\n",
    "            K[i][j] = covariance(i, j)\n",
    "    \n",
    "    eigenvalues, eigenvectors = np.linalg.eig(K)\n",
    "    \n",
    "    return K, eigenvalues, eigenvectors"
   ]
  },
  {
   "cell_type": "code",
   "execution_count": 108,
   "id": "99815b8a",
   "metadata": {},
   "outputs": [
    {
     "name": "stdout",
     "output_type": "stream",
     "text": [
      "[(-20, -62.15085162599303), (-19, -54.51403747498398), (-18, -49.000021187095726), (-17, -51.18670163727176), (-16, -43.42391997068769), (-15, -44.259170430663545), (-14, -42.488156944786894), (-13, -41.47193523228339), (-12, -33.257317477299075), (-11, -36.732724022136196), (-10, -30.020179548722403), (-9, -23.23697931732584), (-8, -20.073946884767018), (-7, -24.3647932746398), (-6, -14.206686912455336), (-5, -17.41705585983766), (-4, -12.325088003585503), (-3, -6.986957857072399), (-2, -3.175149915941123), (-1, -6.660403390148619), (0, 1.9768514768874028), (1, 0.2563683975417579), (2, 5.2619427683375255), (3, 7.652441295459932), (4, 12.283475371224782), (5, 13.428432592610914), (6, 22.147629960918504), (7, 17.675419383133825), (8, 23.646729424230706), (9, 30.303070983228338), (10, 27.341282067820913), (11, 35.95610103311485), (12, 33.5855128380639), (13, 41.01248039149766), (14, 42.70484666919732), (15, 47.57152139614551), (16, 52.91956116144942), (17, 55.83972052551522), (18, 51.04324082371767), (19, 61.24507942851913)]\n",
      "[-0.5        -0.82750922]\n"
     ]
    }
   ],
   "source": [
    "cov_matrix, eigenvalues, eigenvectors = get_covariance_matrix(point_tuples)"
   ]
  },
  {
   "cell_type": "code",
   "execution_count": 109,
   "id": "8435604c",
   "metadata": {},
   "outputs": [
    {
     "data": {
      "text/plain": [
       "array([[ 133.25      ,  401.74458126],\n",
       "       [ 401.74458126, 1219.1307549 ]])"
      ]
     },
     "execution_count": 109,
     "metadata": {},
     "output_type": "execute_result"
    }
   ],
   "source": [
    "cov_matrix"
   ]
  },
  {
   "cell_type": "code",
   "execution_count": 110,
   "id": "3ad7b103",
   "metadata": {},
   "outputs": [
    {
     "data": {
      "text/plain": [
       "array([7.77198695e-01, 1.35160356e+03])"
      ]
     },
     "execution_count": 110,
     "metadata": {},
     "output_type": "execute_result"
    }
   ],
   "source": [
    "eigenvalues"
   ]
  },
  {
   "cell_type": "code",
   "execution_count": 111,
   "id": "ba65ca2a",
   "metadata": {},
   "outputs": [],
   "source": [
    "eigenvectors = eigenvectors.T"
   ]
  },
  {
   "cell_type": "code",
   "execution_count": 112,
   "id": "6210ae4e",
   "metadata": {},
   "outputs": [
    {
     "data": {
      "text/plain": [
       "array([[-0.94970102,  0.31315806],\n",
       "       [-0.31315806, -0.94970102]])"
      ]
     },
     "execution_count": 112,
     "metadata": {},
     "output_type": "execute_result"
    }
   ],
   "source": [
    "eigenvectors"
   ]
  },
  {
   "cell_type": "code",
   "execution_count": 115,
   "id": "59897bcf",
   "metadata": {},
   "outputs": [
    {
     "data": {
      "text/plain": [
       "[<matplotlib.lines.Line2D at 0x7f4309e6b820>]"
      ]
     },
     "execution_count": 115,
     "metadata": {},
     "output_type": "execute_result"
    },
    {
     "data": {
      "image/png": "[encoded data removed]",
      "text/plain": [
       "<Figure size 400x400 with 1 Axes>"
      ]
     },
     "metadata": {
      "needs_background": "light"
     },
     "output_type": "display_data"
    }
   ],
   "source": [
    "#plt.plot(X,y)\n",
    "plt.figure(figsize=(5,5), dpi=80)\n",
    "plt.ylim(ymin = -40, ymax = 40)\n",
    "plt.xlim(xmin= -40, xmax = 40)\n",
    "plt.plot([0, eigenvectors[0][0]*40],[0, eigenvectors[0][1]*40])\n",
    "plt.plot([-eigenvectors[1][0]*40, eigenvectors[1][0]*40],[-eigenvectors[1][1]*40, eigenvectors[1][1]*40])\n",
    "plt.plot(X, y_points, 'ro')"
   ]
  },
  {
   "cell_type": "code",
   "execution_count": 114,
   "id": "95c93998",
   "metadata": {},
   "outputs": [
    {
     "data": {
      "text/plain": [
       "-1.0057391610830634e-17"
      ]
     },
     "execution_count": 114,
     "metadata": {},
     "output_type": "execute_result"
    }
   ],
   "source": [
    "np.dot(eigenvectors[0], eigenvectors[1])"
   ]
  },
  {
   "cell_type": "code",
   "execution_count": null,
   "id": "c5aaebc7",
   "metadata": {},
   "outputs": [],
   "source": []
  }
 ],
 "metadata": {
  "kernelspec": {
   "display_name": "Python 3 (ipykernel)",
   "language": "python",
   "name": "python3"
  },
  "language_info": {
   "codemirror_mode": {
    "name": "ipython",
    "version": 3
   },
   "file_extension": ".py",
   "mimetype": "text/x-python",
   "name": "python",
   "nbconvert_exporter": "python",
   "pygments_lexer": "ipython3",
   "version": "3.8.10"
  }
 },
 "nbformat": 4,
 "nbformat_minor": 5
}
